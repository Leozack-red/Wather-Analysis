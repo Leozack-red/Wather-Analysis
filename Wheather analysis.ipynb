{
 "cells": [
  {
   "cell_type": "code",
   "execution_count": 16,
   "metadata": {},
   "outputs": [],
   "source": [
    "import time, requests, datetime\n",
    "\n",
    "class Wather_Analysis():\n",
    "    def __init__(self):\n",
    "        self.climate_data = self.climate_data()\n",
    "        \n",
    "    def climate_data(self):\n",
    "        day = 86400\n",
    "        historical_climate = []\n",
    "        for i in range(0,6):\n",
    "            if day*i == 0: \n",
    "                initial_time = int(time.time())\n",
    "                response = requests.get(\"https://api.openweathermap.org/data/2.5/onecall/timemachine?lat=59.916668&lon=30.25&units=metric&dt=%s&appid={YOURE API_KEY}\" % (initial_time))\n",
    "                historical_climate.append(response.json())\n",
    "            else: \n",
    "                initial_time = int(time.time()) - day * i\n",
    "                response = requests.get(\"https://api.openweathermap.org/data/2.5/onecall/timemachine?lat=59.916668&lon=30.25&units=metric&dt=%s&appid={YOURE API_KEY}\" % (initial_time))\n",
    "                historical_climate.append(response.json())\n",
    "        return historical_climate\n",
    "    \n",
    "    def temperature_sensations(self):\n",
    "        adequate_feelings = []\n",
    "        for i in range(0, len(self.climate_data)-2):\n",
    "            adequate_feelings_one_day = []\n",
    "            for j in range(0, 4):\n",
    "                adequate_feelings_one_day.append(abs(self.climate_data[i]['hourly'][j]['temp'] - self.climate_data[i]['hourly'][j]['feels_like']))\n",
    "            for k in range(-1, -4, -1):\n",
    "                adequate_feelings_one_day.append(abs(self.climate_data[i+1]['hourly'][k]['temp'] - self.climate_data[i+1]['hourly'][k]['feels_like']))    \n",
    "            adequate_feelings.append(sum(adequate_feelings_one_day))\n",
    "        data = datetime.datetime.fromtimestamp(self.climate_data[adequate_feelings.index(min(adequate_feelings))]['current']['dt'])\n",
    "        return round(min(adequate_feelings), 2), data.strftime('%Y-%m-%d')\n",
    "        \n",
    "    def longest_daylight(self): \n",
    "        delta_daylight = []\n",
    "        time_zone = 10800\n",
    "        for i in range(0, len(self.climate_data)-1): \n",
    "            particular_day = delta_daylight.append((self.climate_data[i]['current']['sunset'] - self.climate_data[i]['current']['sunrise'])-time_zone)\n",
    "        data = datetime.datetime.fromtimestamp(self.climate_data[delta_daylight.index(max(delta_daylight))]['current']['sunset'])\n",
    "        duration = datetime.datetime.fromtimestamp(max(delta_daylight))\n",
    "        return data.strftime('%Y-%m-%d'), duration.strftime('%H:%M:%S')"
   ]
  },
  {
   "cell_type": "code",
   "execution_count": 17,
   "metadata": {},
   "outputs": [
    {
     "name": "stdout",
     "output_type": "stream",
     "text": [
      "('2021-10-26', '09:14:55')\n",
      "(3.46, '2021-10-30')\n"
     ]
    }
   ],
   "source": [
    "obj = Wather_Analysis()\n",
    "longest_daylight = obj.longest_daylight()\n",
    "temperature_sensations = obj.temperature_sensations()\n",
    "print(longest_daylight)\n",
    "print(temperature_sensations)"
   ]
  }
 ],
 "metadata": {
  "kernelspec": {
   "display_name": "Python 3",
   "language": "python",
   "name": "python3"
  },
  "language_info": {
   "codemirror_mode": {
    "name": "ipython",
    "version": 3
   },
   "file_extension": ".py",
   "mimetype": "text/x-python",
   "name": "python",
   "nbconvert_exporter": "python",
   "pygments_lexer": "ipython3",
   "version": "3.8.5"
  }
 },
 "nbformat": 4,
 "nbformat_minor": 4
}
